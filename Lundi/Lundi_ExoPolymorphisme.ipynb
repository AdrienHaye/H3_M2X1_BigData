{
 "cells": [
  {
   "cell_type": "code",
   "execution_count": 29,
   "metadata": {},
   "outputs": [
    {
     "name": "stdout",
     "output_type": "stream",
     "text": [
      "Lettre:\n",
      " Adresse destination: Lille \n",
      " Adresse expedition: Paris \n",
      " Poids: 80.00 grammes \n",
      " Mode: normal\n",
      " Format: A4 \n",
      " Prix du timbre:0.2\n",
      "Colis:\n",
      " Adresse destination: Marrakeche \n",
      " Adresse expedition: Barcelone \n",
      " Poids: 3500.00 grammes \n",
      " Mode: expresse\n",
      " Volume: 2.25 litres \n",
      " Prix du timbre:3.9375\n"
     ]
    }
   ],
   "source": [
    "class Courrier:\n",
    "    def __init__(self, AdresseDestination, AdressExpedition, poids, mode):\n",
    "        self.AdresseDestination = AdresseDestination\n",
    "        self.AdressExpedition = AdressExpedition\n",
    "        self.poids = poids\n",
    "        self.mode = mode\n",
    "         \n",
    "    def ToString(self):\n",
    "        print(\" Adresse destination: {} \\n Adresse expedition: {} \\n Poids: {:.2f} grammes \\n Mode: {}\".format(self.AdresseDestination, self.AdressExpedition, self.poids, self.mode))\n",
    " \n",
    " \n",
    "class Lettre(Courrier):\n",
    "    def __init__(self, AdresseDestination, AdressExpedition, poids, mode, format):\n",
    "\n",
    "        Courrier.__init__(self, AdresseDestination, AdressExpedition, poids, mode)\n",
    "        self.format = format\n",
    "         \n",
    "    def calculTimbre(self):\n",
    "        if self.format == \"A4\":tarif_base = 2.5\n",
    "        if self.format == \"A3\":tarif_base = 3.5\n",
    "         \n",
    "        montant = tarif_base*self.poids/1000\n",
    "         \n",
    "        if self.mode == \"expresse\":montant *= 2\n",
    "         \n",
    "        return montant\n",
    "         \n",
    "    def ToString(self):\n",
    "        print(\"Lettre:\")\n",
    "        Courrier.ToString(self)\n",
    "        print(\" Format: {} \\n Prix du timbre:{:.2}\".format(self.format,self.calculTimbre()))\n",
    " \n",
    "class Colis(Courrier):\n",
    "    def __init__(self, AdresseDestination, AdressExpedition, poids, mode, volume):\n",
    "        Courrier.__init__(self, AdresseDestination, AdressExpedition, poids, mode)\n",
    "        self.volume=volume\n",
    "        \n",
    "    def calculTimbre(self):\n",
    "        montant=0.0\n",
    "         \n",
    "        montant=0.25*self.volume*self.poids/1000\n",
    "         \n",
    "        if self.mode == \"expresse\":\n",
    "            montant *= 2\n",
    "         \n",
    "        return montant\n",
    "         \n",
    "    def ToString(self):\n",
    "        print(\"Colis:\")\n",
    "        Courrier.ToString(self)\n",
    "        print(\" Volume: {:.2f} litres \\n Prix du timbre:{}\".format(self.volume, self.calculTimbre()))\n",
    "        \n",
    "L1 = Lettre(\"Lille\", \"Paris\", 80, \"normal\", \"A4\")\n",
    "L1.ToString()\n",
    "\n",
    "C1=Colis(\"Marrakeche\", \"Barcelone\" , 3500, \"expresse\", 2.25)\n",
    "C1.ToString()"
   ]
  }
 ],
 "metadata": {
  "kernelspec": {
   "display_name": "Python 3",
   "language": "python",
   "name": "python3"
  },
  "language_info": {
   "codemirror_mode": {
    "name": "ipython",
    "version": 3
   },
   "file_extension": ".py",
   "mimetype": "text/x-python",
   "name": "python",
   "nbconvert_exporter": "python",
   "pygments_lexer": "ipython3",
   "version": "3.8.1"
  }
 },
 "nbformat": 4,
 "nbformat_minor": 4
}
